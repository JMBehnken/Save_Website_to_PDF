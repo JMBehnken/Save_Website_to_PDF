{
 "cells": [
  {
   "cell_type": "markdown",
   "metadata": {},
   "source": [
    "# Save a website and its connected pages to pdf\n",
    "The notebook visits the webpage and collects every url of linked pages. These pages will be saved as pdf-file. Furthermore, all pages and sub-pages will be scanned for pdf-files, which will be downloaded as well."
   ]
  },
  {
   "cell_type": "code",
   "execution_count": 1,
   "metadata": {
    "collapsed": true
   },
   "outputs": [],
   "source": [
    "# Impore\n",
    "import os\n",
    "import pdfkit\n",
    "import requests\n",
    "from bs4 import BeautifulSoup\n",
    "from urllib.request import urlopen"
   ]
  },
  {
   "cell_type": "code",
   "execution_count": 2,
   "metadata": {
    "collapsed": true
   },
   "outputs": [],
   "source": [
    "# Specify the page and the folder for the pdfs\n",
    "main_url = 'http://cs231n.github.io/'\n",
    "folder_name = 'Stanford_Convolutional_Neural_Networks'\n",
    "folder_path = ''\n",
    "\n",
    "folder = folder_path + folder_name\n",
    "if not os.path.exists(folder):\n",
    "    os.makedirs(folder)"
   ]
  },
  {
   "cell_type": "code",
   "execution_count": 3,
   "metadata": {
    "collapsed": true
   },
   "outputs": [],
   "source": [
    "html = requests.get(main_url).text\n",
    "bs = BeautifulSoup(html, 'lxml')\n",
    "\n",
    "links = [link['href'] if '://' in link['href'] else main_url+link['href'] for link in bs.findAll('a')]\n",
    "to_pdf = [link for link in links if not link.endswith('.pdf')]"
   ]
  },
  {
   "cell_type": "code",
   "execution_count": 4,
   "metadata": {},
   "outputs": [],
   "source": [
    "second_links = []\n",
    "for url in links:\n",
    "    html = requests.get(url).text\n",
    "    bs = BeautifulSoup(html, 'lxml')\n",
    "    \n",
    "    second_links.extend([link['href'] if '://' in link['href'] else main_url+link['href'] for link in bs.findAll('a') if 'href' in link.attrs])\n",
    "pdf = [link for link in second_links if link.endswith('.pdf')]"
   ]
  },
  {
   "cell_type": "code",
   "execution_count": 5,
   "metadata": {},
   "outputs": [
    {
     "name": "stdout",
     "output_type": "stream",
     "text": [
      "http://cs231n.github.io/papers/eccv16/JohnsonECCV16.pdf\n",
      "Fehler!\n",
      "http://cs231n.github.io/papers/eccv16/JohnsonECCV16Supplementary.pdf\n",
      "Fehler!\n",
      "http://visualgenome.org/static/paper/Visual_Genome.pdf\n",
      "http://cs231n.github.io/papers/densecap/JohnsonCVPR2016.pdf\n",
      "Fehler!\n",
      "http://cs231n.github.io/papers/understanding-rnns/KarpathyICLR2016.pdf\n",
      "Fehler!\n",
      "http://cs231n.github.io/papers/iccv15/JohnsonICCV2015.pdf\n",
      "Fehler!\n",
      "http://cs231n.github.io/papers/cvpr2015/JohnsonCVPR2015.pdf\n",
      "Fehler!\n",
      "http://cs231n.github.io/main.pdf\n",
      "Fehler!\n",
      "http://cs231n.github.io/densecap.pdf\n",
      "Fehler!\n",
      "http://cs231n.github.io/cvpr2015.pdf\n",
      "Fehler!\n",
      "http://cs231n.github.io/nips2014.pdf\n",
      "Fehler!\n",
      "http://cs231n.github.io/nips2014_supp.pdf\n",
      "Fehler!\n",
      "http://cs.stanford.edu/people/karpathy/deepvideo/deepvideo_cvpr2014.pdf\n",
      "Fehler!\n",
      "http://nlp.stanford.edu/~socherr/SocherKarpathyLeManningNg_TACL2013.pdf\n",
      "http://cs.stanford.edu/people/karpathy/nips2012.pdf\n",
      "http://www.cs.ubc.ca/~van/papers/2012-AI-curriculum/2012-AI-curriculum.pdf\n",
      "http://cs.stanford.edu/people/karpathy/EpigeneticsCourseranotes.pdf\n",
      "http://cs229.stanford.edu/notes/cs229-notes10.pdf\n",
      "http://homes.cs.washington.edu/~pedrod/papers/cacm12.pdf\n",
      "http://cs229.stanford.edu/notes/cs229-notes3.pdf\n",
      "https://www.elen.ucl.ac.be/Proceedings/esann/esannpdf/es1999-461.pdf\n",
      "http://www.jmlr.org/papers/volume5/rifkin04a/rifkin04a.pdf\n",
      "http://cs231n.stanford.edu/vecDerivs.pdf\n",
      "https://physics.ucsd.edu/neurophysics/courses/physics_171/annurev.neuro.28.061604.135703.pdf\n",
      "http://www.cs.toronto.edu/~fritz/absps/imagenet.pdf\n",
      "http://www.cs.toronto.edu/~fritz/absps/imagenet.pdf\n",
      "http://www.dartmouth.edu/~gvc/Cybenko_MCSS.pdf\n",
      "http://jmlr.org/proceedings/papers/v9/glorot10a/glorot10a.pdf\n",
      "http://web.stanford.edu/~hastie/Papers/B67.2%20%282005%29%20301-320%20Zou%20&%20Hastie.pdf\n",
      "http://www.cs.toronto.edu/~rsalakhu/papers/srivastava14a.pdf\n",
      "http://www.cs.toronto.edu/~rsalakhu/papers/srivastava14a.pdf\n",
      "http://www.cs.toronto.edu/~rsalakhu/papers/srivastava14a.pdf\n",
      "http://papers.nips.cc/paper/4882-dropout-training-as-adaptive-regularization.pdf\n",
      "http://arxiv.org/pdf/1310.4546.pdf\n",
      "http://arxiv.org/pdf/1212.0901v2.pdf\n",
      "http://www.cs.utoronto.ca/~ilya/pubs/ilya_sutskever_phd_thesis.pdf\n",
      "http://www.cs.toronto.edu/~tijmen/csc321/slides/lecture_slides_lec6.pdf\n",
      "http://www.jmlr.org/papers/volume13/bergstra12a/bergstra12a.pdf\n",
      "http://www.jmlr.org/papers/volume13/bergstra12a/bergstra12a.pdf\n",
      "http://research.microsoft.com/pubs/192769/tricks-2012.pdf\n",
      "Fehler!\n",
      "http://yann.lecun.com/exdb/publis/pdf/lecun-98b.pdf\n",
      "http://arxiv.org/pdf/1206.5533v2.pdf\n",
      "http://yann.lecun.com/exdb/publis/pdf/lecun-98.pdf\n",
      "http://research.microsoft.com/en-us/um/people/kahe/ilsvrc15/ilsvrc2015_deep_residual_learning_kaiminghe.pdf\n",
      "Fehler!\n",
      "http://papers.nips.cc/paper/5420-do-convnets-learn-correspondence.pdf\n"
     ]
    }
   ],
   "source": [
    "for i, url in enumerate(pdf):\n",
    "    try:\n",
    "        print(url)\n",
    "        response = urlopen(url).read()\n",
    "        with open(folder+'/Pdf_{}_{}.pdf'.format(i, url.replace('/', '')), 'wb') as f:\n",
    "            f.write(response)\n",
    "    except:\n",
    "        print('Fehler!')"
   ]
  },
  {
   "cell_type": "code",
   "execution_count": 6,
   "metadata": {
    "scrolled": false
   },
   "outputs": [
    {
     "name": "stdout",
     "output_type": "stream",
     "text": [
      "http://cs231n.github.io//\n",
      "Loading page (1/2)\n",
      "Printing pages (2/2)                                               \n",
      "Done                                                           \n",
      "http://cs231n.stanford.edu/\n",
      "Loading page (1/2)\n",
      "Printing pages (2/2)                                               \n",
      "Done                                                           \n",
      "http://cs.stanford.edu/people/jcjohns/\n",
      "Loading page (1/2)\n",
      "Printing pages (2/2)                                               \n",
      "Done                                                           \n",
      "http://cs.stanford.edu/people/karpathy/\n",
      "Loading page (1/2)\n",
      "Printing pages (2/2)                                               \n",
      "Done                                                           \n",
      "https://github.com/cs231n/cs231n.github.io\n",
      "Loading page (1/2)\n",
      "Printing pages (2/2)                                               \n",
      "Done                                                           \n",
      "https://hypothes.is/\n",
      "Loading page (1/2)\n",
      "Printing pages (2/2)                                               \n",
      "Done                                                           \n",
      "http://cs231n.github.io/assignments2018/assignment1/\n",
      "Loading page (1/2)\n",
      "Printing pages (2/2)                                               \n",
      "Done                                                           \n",
      "http://cs231n.github.io/assignments2018/assignment2/\n",
      "Loading page (1/2)\n",
      "Printing pages (2/2)                                               \n",
      "Done                                                           \n",
      "http://cs231n.github.io/setup-instructions/\n",
      "Loading page (1/2)\n",
      "Printing pages (2/2)                                               \n",
      "Done                                                           \n",
      "http://cs231n.github.io/python-numpy-tutorial/\n",
      "Loading page (1/2)\n",
      "Printing pages (2/2)                                               \n",
      "Done                                                           \n",
      "http://cs231n.github.io/ipython-tutorial/\n",
      "Loading page (1/2)\n",
      "Printing pages (2/2)                                               \n",
      "Done                                                           \n",
      "http://cs231n.github.io/gce-tutorial/\n",
      "Loading page (1/2)\n",
      "Printing pages (2/2)                                               \n",
      "Done                                                           \n",
      "http://cs231n.github.io/aws-tutorial/\n",
      "Loading page (1/2)\n",
      "Printing pages (2/2)                                               \n",
      "Done                                                           \n",
      "http://cs231n.github.io/classification/\n",
      "Loading page (1/2)\n",
      "Printing pages (2/2)                                               \n",
      "Done                                                           \n",
      "http://cs231n.github.io/linear-classify/\n",
      "Loading page (1/2)\n",
      "Printing pages (2/2)                                               \n",
      "Done                                                           \n",
      "http://cs231n.github.io/optimization-1/\n",
      "Loading page (1/2)\n",
      "Printing pages (2/2)                                               \n",
      "Done                                                           \n",
      "http://cs231n.github.io/optimization-2/\n",
      "Loading page (1/2)\n",
      "Printing pages (2/2)                                               \n",
      "Done                                                           \n",
      "http://cs231n.github.io/neural-networks-1/\n",
      "Loading page (1/2)\n",
      "Printing pages (2/2)                                               \n",
      "Done                                                           \n",
      "http://cs231n.github.io/neural-networks-2/\n",
      "Loading page (1/2)\n",
      "Printing pages (2/2)                                               \n",
      "Done                                                           \n",
      "http://cs231n.github.io/neural-networks-3/\n",
      "Loading page (1/2)\n",
      "Printing pages (2/2)                                               \n",
      "Done                                                           \n",
      "http://cs231n.github.io/neural-networks-case-study/\n",
      "Loading page (1/2)\n",
      "Printing pages (2/2)                                               \n",
      "Done                                                           \n",
      "Warning: Received createRequest signal on a disposed ResourceObject's NetworkAccessManager. This might be an indication of an iframe taking too long to load.\n",
      "http://cs231n.github.io/convolutional-networks/\n",
      "Loading page (1/2)\n",
      "Printing pages (2/2)                                               \n",
      "Done                                                           \n",
      "Warning: Received createRequest signal on a disposed ResourceObject's NetworkAccessManager. This might be an indication of an iframe taking too long to load.\n",
      "http://cs231n.github.io/understanding-cnn/\n",
      "Loading page (1/2)\n",
      "Printing pages (2/2)                                               \n",
      "Done                                                           \n",
      "http://cs231n.github.io/transfer-learning/\n",
      "Loading page (1/2)\n",
      "Printing pages (2/2)                                               \n",
      "Done                                                           \n",
      "https://github.com/cs231n\n",
      "Loading page (1/2)\n",
      "Printing pages (2/2)                                               \n",
      "Done                                                           \n",
      "https://twitter.com/cs231n\n",
      "Loading page (1/2)\n",
      "Printing pages (2/2)                                               \n",
      "Done                                                           \n",
      "http://cs231n.github.io/mailto:karpathy@cs.stanford.edu\n",
      "Fehler!\n"
     ]
    }
   ],
   "source": [
    "for i, url in enumerate(to_pdf):    \n",
    "    print(url)\n",
    "    try:\n",
    "        pdfkit.from_url(url, folder+'/Html_{}_{}.pdf'.format(i, url.replace('/', '')))\n",
    "    except:\n",
    "        print('Fehler!')"
   ]
  },
  {
   "cell_type": "code",
   "execution_count": null,
   "metadata": {
    "collapsed": true
   },
   "outputs": [],
   "source": []
  }
 ],
 "metadata": {
  "kernelspec": {
   "display_name": "Python 3",
   "language": "python",
   "name": "python3"
  },
  "language_info": {
   "codemirror_mode": {
    "name": "ipython",
    "version": 3
   },
   "file_extension": ".py",
   "mimetype": "text/x-python",
   "name": "python",
   "nbconvert_exporter": "python",
   "pygments_lexer": "ipython3",
   "version": "3.6.1"
  }
 },
 "nbformat": 4,
 "nbformat_minor": 2
}
